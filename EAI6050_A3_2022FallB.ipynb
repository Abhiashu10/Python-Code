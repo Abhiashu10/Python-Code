{
 "cells": [
  {
   "cell_type": "markdown",
   "metadata": {},
   "source": [
    "# EAI6050 2022 Fall B Week 3 Assignment"
   ]
  },
  {
   "cell_type": "markdown",
   "metadata": {},
   "source": [
    "Natural Language Processing (NLP) is a powerful tool dealing with language related tasks. Assignment 3 will challenge you with some NLP related tasks. \n",
    "\n",
    "You might need to insall spaCy or other related libraries to finish this assignment."
   ]
  },
  {
   "cell_type": "markdown",
   "metadata": {},
   "source": [
    "# Section One\n",
    "## Text Understanding \n",
    "\n",
    "The following paragraph is an abstract of a survey paper regarding deep learning published by Nature in 2015\n",
    "\n",
    "\"Deep learning allows computational models that are composed of multiple processing layers to learn representations of data with multiple levels of abstraction. These methods have dramatically improved the state-of-the-art in speech recognition, visual object recognition, object detection and many other domains such as drug discovery and genomics. Deep learning discovers intricate structure in large data sets by using the backpropagation algorithm to indicate how a machine should change its internal parameters that are used to compute the representation in each layer from the representation in the previous layer. Deep convolutional nets have brought about breakthroughs in processing images, video, speech and audio, whereas recurrent nets have shone light on sequential data such as text and speech.\"\n",
    "\n",
    "LeCun, Y., Bengio, Y. & Hinton, G. Deep learning. Nature 521, 436–444 (2015). "
   ]
  },
  {
   "cell_type": "markdown",
   "metadata": {},
   "source": [
    "### <div class=\"alert alert-info\">[GRADED  TASK 1.1]Text Summarisation</div> \n",
    "Please summarize the given abstract"
   ]
  },
  {
   "cell_type": "code",
   "execution_count": 9,
   "metadata": {},
   "outputs": [],
   "source": [
    "# Your answer here"
   ]
  },
  {
   "cell_type": "markdown",
   "metadata": {},
   "source": [
    "### <div class=\"alert alert-info\">[GRADED  TASK 1.2]Name Entity Recognition (NER) Tagging</div>\n",
    "Please list and mark name entities in the abstract"
   ]
  },
  {
   "cell_type": "code",
   "execution_count": null,
   "metadata": {},
   "outputs": [],
   "source": [
    "# Your answer here"
   ]
  },
  {
   "cell_type": "markdown",
   "metadata": {},
   "source": [
    "### <div class=\"alert alert-info\">[GRADED  TASK 1.3]Part-of-Speech (PoS) Tagging</div>\n",
    "Please add PoS tags to the first sentece of the abstract"
   ]
  },
  {
   "cell_type": "code",
   "execution_count": null,
   "metadata": {},
   "outputs": [],
   "source": [
    "# Your answer here"
   ]
  },
  {
   "cell_type": "markdown",
   "metadata": {},
   "source": [
    "# Section Two\n",
    "## Sentiment Analysis in Finance\n",
    "\n",
    "As a portfolio manager, it's important to keep up with the market sentiment pulse for the stocks loaded in the portfolio, since the results of sentiment analysis can offer insights to make optimization or risk management decisions. Please build a sentment analysis system monitoring six stocks in a fictional portfolio - __AAPL, AMZN, GOOG, META, MSFT, NFLX__. Keep in mind this sentiment analysis system might be incorported into the capstone project.\n",
    "\n",
    "- Show steps building this system \n",
    "- Demonstrate a functional prototype\n",
    "- Discuss how this system can be incorporated into the capstone"
   ]
  },
  {
   "cell_type": "code",
   "execution_count": null,
   "metadata": {},
   "outputs": [],
   "source": [
    "# Your answer here"
   ]
  }
 ],
 "metadata": {
  "kernelspec": {
   "display_name": "Python 3",
   "language": "python",
   "name": "python3"
  },
  "language_info": {
   "codemirror_mode": {
    "name": "ipython",
    "version": 3
   },
   "file_extension": ".py",
   "mimetype": "text/x-python",
   "name": "python",
   "nbconvert_exporter": "python",
   "pygments_lexer": "ipython3",
   "version": "3.7.6"
  }
 },
 "nbformat": 4,
 "nbformat_minor": 4
}
