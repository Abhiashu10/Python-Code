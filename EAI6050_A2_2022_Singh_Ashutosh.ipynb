{
 "cells": [
  {
   "cell_type": "markdown",
   "metadata": {},
   "source": [
    "# EAI6050 2022 Fall B Week 2 Assignment"
   ]
  },
  {
   "cell_type": "markdown",
   "metadata": {},
   "source": [
    "With the loaded daily portfolio return data, please calculate both the __historical__(Section One) and the __parametric__(Section Two) Value at Risk(VaR) and Conditional Value at Risk(CVaR)."
   ]
  },
  {
   "cell_type": "code",
   "execution_count": 4,
   "metadata": {},
   "outputs": [],
   "source": [
    "import pandas as pd\n",
    "import numpy as np\n",
    "import matplotlib.pyplot as plt\n",
    "import datetime\n",
    "from scipy.stats import norm\n",
    "from tabulate import tabulate\n",
    "%matplotlib inline"
   ]
  },
  {
   "cell_type": "code",
   "execution_count": 5,
   "metadata": {},
   "outputs": [
    {
     "data": {
      "text/html": [
       "<div>\n",
       "<style scoped>\n",
       "    .dataframe tbody tr th:only-of-type {\n",
       "        vertical-align: middle;\n",
       "    }\n",
       "\n",
       "    .dataframe tbody tr th {\n",
       "        vertical-align: top;\n",
       "    }\n",
       "\n",
       "    .dataframe thead th {\n",
       "        text-align: right;\n",
       "    }\n",
       "</style>\n",
       "<table border=\"1\" class=\"dataframe\">\n",
       "  <thead>\n",
       "    <tr style=\"text-align: right;\">\n",
       "      <th></th>\n",
       "      <th>Date</th>\n",
       "      <th>pf_returns</th>\n",
       "    </tr>\n",
       "  </thead>\n",
       "  <tbody>\n",
       "    <tr>\n",
       "      <th>0</th>\n",
       "      <td>2020-01-03</td>\n",
       "      <td>-0.009394</td>\n",
       "    </tr>\n",
       "    <tr>\n",
       "      <th>1</th>\n",
       "      <td>2020-01-06</td>\n",
       "      <td>0.016566</td>\n",
       "    </tr>\n",
       "    <tr>\n",
       "      <th>2</th>\n",
       "      <td>2020-01-07</td>\n",
       "      <td>-0.004219</td>\n",
       "    </tr>\n",
       "    <tr>\n",
       "      <th>3</th>\n",
       "      <td>2020-01-08</td>\n",
       "      <td>0.011326</td>\n",
       "    </tr>\n",
       "    <tr>\n",
       "      <th>4</th>\n",
       "      <td>2020-01-09</td>\n",
       "      <td>0.008879</td>\n",
       "    </tr>\n",
       "  </tbody>\n",
       "</table>\n",
       "</div>"
      ],
      "text/plain": [
       "         Date  pf_returns\n",
       "0  2020-01-03   -0.009394\n",
       "1  2020-01-06    0.016566\n",
       "2  2020-01-07   -0.004219\n",
       "3  2020-01-08    0.011326\n",
       "4  2020-01-09    0.008879"
      ]
     },
     "execution_count": 5,
     "metadata": {},
     "output_type": "execute_result"
    }
   ],
   "source": [
    "df = pd.read_csv('eai6050_assignment2.csv')\n",
    "df.head()"
   ]
  },
  {
   "cell_type": "code",
   "execution_count": 6,
   "metadata": {},
   "outputs": [],
   "source": [
    "df = df.set_index(pd.DatetimeIndex(df['Date']))\n",
    "df.drop([\"Date\"],inplace = True, axis = 1)"
   ]
  },
  {
   "cell_type": "code",
   "execution_count": 7,
   "metadata": {},
   "outputs": [
    {
     "data": {
      "text/html": [
       "<div>\n",
       "<style scoped>\n",
       "    .dataframe tbody tr th:only-of-type {\n",
       "        vertical-align: middle;\n",
       "    }\n",
       "\n",
       "    .dataframe tbody tr th {\n",
       "        vertical-align: top;\n",
       "    }\n",
       "\n",
       "    .dataframe thead th {\n",
       "        text-align: right;\n",
       "    }\n",
       "</style>\n",
       "<table border=\"1\" class=\"dataframe\">\n",
       "  <thead>\n",
       "    <tr style=\"text-align: right;\">\n",
       "      <th></th>\n",
       "      <th>pf_returns</th>\n",
       "    </tr>\n",
       "    <tr>\n",
       "      <th>Date</th>\n",
       "      <th></th>\n",
       "    </tr>\n",
       "  </thead>\n",
       "  <tbody>\n",
       "    <tr>\n",
       "      <th>2020-01-03</th>\n",
       "      <td>-0.009394</td>\n",
       "    </tr>\n",
       "    <tr>\n",
       "      <th>2020-01-06</th>\n",
       "      <td>0.016566</td>\n",
       "    </tr>\n",
       "    <tr>\n",
       "      <th>2020-01-07</th>\n",
       "      <td>-0.004219</td>\n",
       "    </tr>\n",
       "    <tr>\n",
       "      <th>2020-01-08</th>\n",
       "      <td>0.011326</td>\n",
       "    </tr>\n",
       "    <tr>\n",
       "      <th>2020-01-09</th>\n",
       "      <td>0.008879</td>\n",
       "    </tr>\n",
       "  </tbody>\n",
       "</table>\n",
       "</div>"
      ],
      "text/plain": [
       "            pf_returns\n",
       "Date                  \n",
       "2020-01-03   -0.009394\n",
       "2020-01-06    0.016566\n",
       "2020-01-07   -0.004219\n",
       "2020-01-08    0.011326\n",
       "2020-01-09    0.008879"
      ]
     },
     "execution_count": 7,
     "metadata": {},
     "output_type": "execute_result"
    }
   ],
   "source": [
    "df.head()"
   ]
  },
  {
   "cell_type": "markdown",
   "metadata": {},
   "source": [
    "# Section One\n",
    "## Measuring Risk - Non-Parametric(Historical) Approach\n",
    "\n",
    "As a portfolio manager, it's important to know what the possible maximum daily loss is. You will use historical daily return information to calculate VaR and CVaR in this section. \n",
    "\n",
    "Please round up the results to the __third decimal place__. "
   ]
  },
  {
   "cell_type": "markdown",
   "metadata": {},
   "source": [
    "### <div class=\"alert alert-info\">[GRADED  TASK 1.1]</div>\n",
    "Calculate the daily __VaR__ with 99% confidence interval for the portfolio.\n",
    "Please comment on the result."
   ]
  },
  {
   "cell_type": "code",
   "execution_count": 8,
   "metadata": {},
   "outputs": [
    {
     "name": "stdout",
     "output_type": "stream",
     "text": [
      "Daily Value at Risk at 99% Confidence Interval : -0.059\n"
     ]
    }
   ],
   "source": [
    "# Your answer here\n",
    "def historical_VaR(returns,alpha):\n",
    "    return np.percentile(returns,alpha)\n",
    "hist_VaR_99 = historical_VaR(df['pf_returns'],1)\n",
    "print(f\"Daily Value at Risk at 99% Confidence Interval : {round(hist_VaR_99,3)}\")\n"
   ]
  },
  {
   "cell_type": "markdown",
   "metadata": {},
   "source": [
    "### <div class=\"alert alert-info\">[GRADED  TASK 1.2]</div>\n",
    "Calculate the daily __CVaR__ with 99% confidence interval for the portfolio.\n",
    "Please comment on the result.\n",
    "\n",
    "Hint: since historical VaR is calculated at the 99% confidence interval, historical CVaR could be calculated as the average of the worst 1% losses."
   ]
  },
  {
   "cell_type": "code",
   "execution_count": 11,
   "metadata": {},
   "outputs": [
    {
     "name": "stdout",
     "output_type": "stream",
     "text": [
      "Daily Conditional Value at Risk beyond 99% Confidence Interval : -0.091\n"
     ]
    }
   ],
   "source": [
    "# Your answer here\n",
    "def historical_CVaR(returns,alpha):\n",
    "    belowVaR = returns <= historical_VaR(returns, alpha=alpha)\n",
    "    return returns[belowVaR].mean()\n",
    "\n",
    "hist_CVaR_99 = historical_CVaR(df['pf_returns'],1)\n",
    "\n",
    "print(f\"Daily Conditional Value at Risk beyond 99% Confidence Interval : {round(hist_CVaR_99,3)}\")"
   ]
  },
  {
   "cell_type": "code",
   "execution_count": 12,
   "metadata": {},
   "outputs": [
    {
     "name": "stdout",
     "output_type": "stream",
     "text": [
      "Value at Risk 99th CI    :  -5944.86\n",
      "Conditional VaR 99th CI  :  -9057.4\n"
     ]
    }
   ],
   "source": [
    "InitialInvestment = 100000\n",
    "print(f'Value at Risk 99th CI    :  {round(InitialInvestment*hist_VaR_99,2)}')\n",
    "print(f'Conditional VaR 99th CI  :  {round(InitialInvestment*hist_CVaR_99,2)}')"
   ]
  },
  {
   "cell_type": "markdown",
   "metadata": {},
   "source": [
    "### <div class=\"alert alert-info\">[GRADED  TASK 1.3]</div>\n",
    "Creat a histogram of the return and add VaR & CVaR calculated above to the figure"
   ]
  },
  {
   "cell_type": "code",
   "execution_count": 18,
   "metadata": {},
   "outputs": [
    {
     "data": {
      "image/png": "[encoded data removed]",
      "text/plain": [
       "<Figure size 432x288 with 1 Axes>"
      ]
     },
     "metadata": {
      "needs_background": "light"
     },
     "output_type": "display_data"
    }
   ],
   "source": [
    "# Your answer here\n",
    "\n",
    "# Plot for portfolio returns\n",
    "plt.hist(df['pf_returns'], bins=25, color='red')\n",
    "\n",
    "\n",
    "plt.axvline(hist_VaR_99, color='green', label = f'VaR_99 : {round(hist_VaR_99,3)}')\n",
    "plt.axvline(hist_CVaR_99, color = 'purple', label= f'VaR_99 : {round(hist_CVaR_99,3)}')\n",
    "\n",
    "plt.xlabel('Returns')\n",
    "plt.title('Historical VaR and CVaR for portfolio')\n",
    "plt.legend()\n",
    "plt.show()"
   ]
  },
  {
   "cell_type": "markdown",
   "metadata": {},
   "source": [
    "# Section Two\n",
    "## Measuring Risk - Parametric Approach\n",
    "\n",
    "Assume the portfolio return is normal distributed. \n",
    "- Please find the mean and standard deviation from the given daily returns of the portfolio.\n",
    "- Then use the normal distribution to calculate VaR & CVaR\n",
    "\n",
    "Please round up the results to the __third decimal place__. "
   ]
  },
  {
   "cell_type": "markdown",
   "metadata": {},
   "source": [
    "### <div class=\"alert alert-info\">[GRADED  TASK 2.1]</div>\n",
    "Calculate the daily __VaR__ with 99% confidence interval  and add comments to the result"
   ]
  },
  {
   "cell_type": "code",
   "execution_count": 24,
   "metadata": {},
   "outputs": [
    {
     "name": "stdout",
     "output_type": "stream",
     "text": [
      "Daily Value at Risk at 99% Confidence Interval : 0.053\n"
     ]
    }
   ],
   "source": [
    "# Your answer here\n",
    "pf_return_mean = np.mean(df['pf_returns'])\n",
    "pf_return_std = np.std(df['pf_returns'])\n",
    "\n",
    "def parametric_VaR(return_mean, stddev, alpha):\n",
    "    return norm.ppf(1-alpha/100)*stddev - return_mean\n",
    "\n",
    "para_VaR_99 = parametric_VaR(pf_return_mean, pf_return_std,1)\n",
    "print(f\"Daily Value at Risk at 99% Confidence Interval : {round(para_VaR_99,3)}\")"
   ]
  },
  {
   "cell_type": "markdown",
   "metadata": {},
   "source": [
    "### <div class=\"alert alert-info\">[GRADED  TASK 2.2]</div>\n",
    "Calculate the daily __CVaR__ with 99% confidence interval  and add comments to the result\n",
    "\n",
    "$$CVaR=\\frac{1}{1-\\alpha}\\int_{-\\infty}^{VaR(\\alpha)} xf(x)\\,dx$$\n",
    "\n",
    "$\\alpha$ is the confidence interval\n",
    "\n",
    "$f(x)$ is the probability density function"
   ]
  },
  {
   "cell_type": "code",
   "execution_count": 25,
   "metadata": {},
   "outputs": [
    {
     "name": "stdout",
     "output_type": "stream",
     "text": [
      "Daily Conditioal Value at Risk at 99% Confidence Interval : 0.061\n"
     ]
    }
   ],
   "source": [
    "def parametric_CVaR(return_mean, stddev, alpha):\n",
    "    CVaR = (alpha/100)**-1 * norm.pdf(norm.ppf(alpha/100))*stddev - return_mean\n",
    "    return CVaR\n",
    "\n",
    "para_CVaR_99 = parametric_CVaR(pf_return_mean, pf_return_std, 1)\n",
    "\n",
    "print(f\"Daily Conditioal Value at Risk at 99% Confidence Interval : {round(para_CVaR_99,3)}\")"
   ]
  },
  {
   "cell_type": "code",
   "execution_count": 26,
   "metadata": {},
   "outputs": [
    {
     "name": "stdout",
     "output_type": "stream",
     "text": [
      "Value at Risk 99th CI    :  5290.91\n",
      "Conditional VaR 99th CI  :  6090.6\n"
     ]
    }
   ],
   "source": [
    "InitialInvestment = 100000\n",
    "print(f'Value at Risk 99th CI    :  {round(InitialInvestment*para_VaR_99,2)}')\n",
    "print(f'Conditional VaR 99th CI  :  {round(InitialInvestment*para_CVaR_99,2)}')"
   ]
  },
  {
   "cell_type": "markdown",
   "metadata": {},
   "source": [
    "### <div class=\"alert alert-info\">[GRADED  TASK 2.3]</div>\n",
    "Creat a histogram of the return and add VaR & CVaR calculated above to the figure"
   ]
  },
  {
   "cell_type": "code",
   "execution_count": 30,
   "metadata": {},
   "outputs": [
    {
     "data": {
      "image/png": "[encoded data removed]",
      "text/plain": [
       "<Figure size 432x288 with 1 Axes>"
      ]
     },
     "metadata": {
      "needs_background": "light"
     },
     "output_type": "display_data"
    }
   ],
   "source": [
    "# Plot for portfolio returns\n",
    "plt.hist(df['pf_returns'], bins=25, color = 'red', alpha=0.75)\n",
    "\n",
    "# Plot the PDF of portfolio returns\n",
    "mean, std = norm.fit(df['pf_returns'])\n",
    "xmin, xmax = plt.xlim()\n",
    "x = np.linspace(xmin, xmax, 100)\n",
    "p = norm.pdf(x, mean, std)\n",
    "plt.plot(x, p, color = 'blue', alpha = 0.75)\n",
    "\n",
    "# Adding the VaR and CVaR to plot\n",
    "plt.axvline(para_VaR_99, color='green', label = f'VaR_99 : {round(para_VaR_99,3)}')\n",
    "plt.axvline(para_CVaR_99, color = 'purple', label= f'CVaR_99 : {round(para_CVaR_99,3)}')\n",
    "\n",
    "plt.xlabel('Returns')\n",
    "plt.title('Parametric VaR and CVaR for portfolio')\n",
    "plt.legend()\n",
    "plt.show()"
   ]
  }
 ],
 "metadata": {
  "kernelspec": {
   "display_name": "Python 3 (ipykernel)",
   "language": "python",
   "name": "python3"
  },
  "language_info": {
   "codemirror_mode": {
    "name": "ipython",
    "version": 3
   },
   "file_extension": ".py",
   "mimetype": "text/x-python",
   "name": "python",
   "nbconvert_exporter": "python",
   "pygments_lexer": "ipython3",
   "version": "3.9.12"
  }
 },
 "nbformat": 4,
 "nbformat_minor": 4
}
